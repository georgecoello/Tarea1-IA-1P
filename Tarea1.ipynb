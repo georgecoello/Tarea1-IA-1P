{
 "cells": [
  {
   "cell_type": "markdown",
   "id": "b1704f32",
   "metadata": {},
   "source": [
    "Tarea 1 \n",
    "===\n",
    "Alumno: Jorge Isaac Coello Berrios \n",
    "N° de cuenta: 20161003898 \n",
    "Sección: 1900 "
   ]
  },
  {
   "cell_type": "code",
   "execution_count": null,
   "id": "a13cdc52",
   "metadata": {},
   "outputs": [],
   "source": []
  },
  {
   "cell_type": "code",
   "execution_count": null,
   "id": "2e7f437d",
   "metadata": {},
   "outputs": [],
   "source": []
  },
  {
   "cell_type": "code",
   "execution_count": null,
   "id": "ed77f0cc",
   "metadata": {},
   "outputs": [],
   "source": []
  },
  {
   "cell_type": "code",
   "execution_count": null,
   "id": "71ebe4bd",
   "metadata": {},
   "outputs": [],
   "source": []
  }
 ],
 "metadata": {
  "kernelspec": {
   "display_name": "Python 3 (ipykernel)",
   "language": "python",
   "name": "python3"
  },
  "language_info": {
   "codemirror_mode": {
    "name": "ipython",
    "version": 3
   },
   "file_extension": ".py",
   "mimetype": "text/x-python",
   "name": "python",
   "nbconvert_exporter": "python",
   "pygments_lexer": "ipython3",
   "version": "3.9.12"
  }
 },
 "nbformat": 4,
 "nbformat_minor": 5
}
